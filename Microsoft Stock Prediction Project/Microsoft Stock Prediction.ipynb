{
 "cells": [
  {
   "cell_type": "code",
   "execution_count": null,
   "id": "e137b0ff",
   "metadata": {},
   "outputs": [],
   "source": []
  },
  {
   "cell_type": "code",
   "execution_count": 2,
   "id": "1db3813f",
   "metadata": {},
   "outputs": [
    {
     "name": "stderr",
     "output_type": "stream",
     "text": [
      "C:\\Users\\Leviathan\\anaconda3\\lib\\site-packages\\scipy\\__init__.py:146: UserWarning: A NumPy version >=1.16.5 and <1.23.0 is required for this version of SciPy (detected version 1.24.3\n",
      "  warnings.warn(f\"A NumPy version >={np_minversion} and <{np_maxversion}\"\n"
     ]
    }
   ],
   "source": [
    "import numpy as np\n",
    "import pandas as pd\n",
    "import matplotlib.pyplot as plt\n",
    "import seaborn as sb\n",
    "import tensorflow as tf\n",
    "from sklearn.model_selection import train_test_split\n",
    "from sklearn.preprocessing import StandardScaler\n",
    "from tensorflow import keras\n",
    "from datetime import datetime"
   ]
  },
  {
   "cell_type": "code",
   "execution_count": 3,
   "id": "a566f007",
   "metadata": {},
   "outputs": [
    {
     "data": {
      "text/html": [
       "<div>\n",
       "<style scoped>\n",
       "    .dataframe tbody tr th:only-of-type {\n",
       "        vertical-align: middle;\n",
       "    }\n",
       "\n",
       "    .dataframe tbody tr th {\n",
       "        vertical-align: top;\n",
       "    }\n",
       "\n",
       "    .dataframe thead th {\n",
       "        text-align: right;\n",
       "    }\n",
       "</style>\n",
       "<table border=\"1\" class=\"dataframe\">\n",
       "  <thead>\n",
       "    <tr style=\"text-align: right;\">\n",
       "      <th></th>\n",
       "      <th>index</th>\n",
       "      <th>date</th>\n",
       "      <th>open</th>\n",
       "      <th>high</th>\n",
       "      <th>low</th>\n",
       "      <th>close</th>\n",
       "      <th>volume</th>\n",
       "      <th>Name</th>\n",
       "    </tr>\n",
       "  </thead>\n",
       "  <tbody>\n",
       "    <tr>\n",
       "      <th>0</th>\n",
       "      <td>390198</td>\n",
       "      <td>2013-02-08</td>\n",
       "      <td>27.35</td>\n",
       "      <td>27.71</td>\n",
       "      <td>27.31</td>\n",
       "      <td>27.55</td>\n",
       "      <td>33318306</td>\n",
       "      <td>MSFT</td>\n",
       "    </tr>\n",
       "    <tr>\n",
       "      <th>1</th>\n",
       "      <td>390199</td>\n",
       "      <td>2013-02-11</td>\n",
       "      <td>27.65</td>\n",
       "      <td>27.92</td>\n",
       "      <td>27.50</td>\n",
       "      <td>27.86</td>\n",
       "      <td>32247549</td>\n",
       "      <td>MSFT</td>\n",
       "    </tr>\n",
       "    <tr>\n",
       "      <th>2</th>\n",
       "      <td>390200</td>\n",
       "      <td>2013-02-12</td>\n",
       "      <td>27.88</td>\n",
       "      <td>28.00</td>\n",
       "      <td>27.75</td>\n",
       "      <td>27.88</td>\n",
       "      <td>35990829</td>\n",
       "      <td>MSFT</td>\n",
       "    </tr>\n",
       "    <tr>\n",
       "      <th>3</th>\n",
       "      <td>390201</td>\n",
       "      <td>2013-02-13</td>\n",
       "      <td>27.93</td>\n",
       "      <td>28.11</td>\n",
       "      <td>27.88</td>\n",
       "      <td>28.03</td>\n",
       "      <td>41715530</td>\n",
       "      <td>MSFT</td>\n",
       "    </tr>\n",
       "    <tr>\n",
       "      <th>4</th>\n",
       "      <td>390202</td>\n",
       "      <td>2013-02-14</td>\n",
       "      <td>27.92</td>\n",
       "      <td>28.06</td>\n",
       "      <td>27.87</td>\n",
       "      <td>28.04</td>\n",
       "      <td>32663174</td>\n",
       "      <td>MSFT</td>\n",
       "    </tr>\n",
       "  </tbody>\n",
       "</table>\n",
       "</div>"
      ],
      "text/plain": [
       "    index        date   open   high    low  close    volume  Name\n",
       "0  390198  2013-02-08  27.35  27.71  27.31  27.55  33318306  MSFT\n",
       "1  390199  2013-02-11  27.65  27.92  27.50  27.86  32247549  MSFT\n",
       "2  390200  2013-02-12  27.88  28.00  27.75  27.88  35990829  MSFT\n",
       "3  390201  2013-02-13  27.93  28.11  27.88  28.03  41715530  MSFT\n",
       "4  390202  2013-02-14  27.92  28.06  27.87  28.04  32663174  MSFT"
      ]
     },
     "execution_count": 3,
     "metadata": {},
     "output_type": "execute_result"
    }
   ],
   "source": [
    "df = pd.read_csv(r\"C:\\My Data\\ML Projects\\MicrosoftStock.csv\")\n",
    "df.head()"
   ]
  },
  {
   "cell_type": "code",
   "execution_count": 4,
   "id": "e4ecfea3",
   "metadata": {},
   "outputs": [
    {
     "data": {
      "text/html": [
       "<div>\n",
       "<style scoped>\n",
       "    .dataframe tbody tr th:only-of-type {\n",
       "        vertical-align: middle;\n",
       "    }\n",
       "\n",
       "    .dataframe tbody tr th {\n",
       "        vertical-align: top;\n",
       "    }\n",
       "\n",
       "    .dataframe thead th {\n",
       "        text-align: right;\n",
       "    }\n",
       "</style>\n",
       "<table border=\"1\" class=\"dataframe\">\n",
       "  <thead>\n",
       "    <tr style=\"text-align: right;\">\n",
       "      <th></th>\n",
       "      <th>index</th>\n",
       "      <th>open</th>\n",
       "      <th>high</th>\n",
       "      <th>low</th>\n",
       "      <th>close</th>\n",
       "      <th>volume</th>\n",
       "    </tr>\n",
       "  </thead>\n",
       "  <tbody>\n",
       "    <tr>\n",
       "      <th>count</th>\n",
       "      <td>1259.000000</td>\n",
       "      <td>1259.000000</td>\n",
       "      <td>1259.000000</td>\n",
       "      <td>1259.000000</td>\n",
       "      <td>1259.000000</td>\n",
       "      <td>1.259000e+03</td>\n",
       "    </tr>\n",
       "    <tr>\n",
       "      <th>mean</th>\n",
       "      <td>390827.000000</td>\n",
       "      <td>51.026394</td>\n",
       "      <td>51.436007</td>\n",
       "      <td>50.630397</td>\n",
       "      <td>51.063081</td>\n",
       "      <td>3.386946e+07</td>\n",
       "    </tr>\n",
       "    <tr>\n",
       "      <th>std</th>\n",
       "      <td>363.586303</td>\n",
       "      <td>14.859387</td>\n",
       "      <td>14.930144</td>\n",
       "      <td>14.774630</td>\n",
       "      <td>14.852117</td>\n",
       "      <td>1.958979e+07</td>\n",
       "    </tr>\n",
       "    <tr>\n",
       "      <th>min</th>\n",
       "      <td>390198.000000</td>\n",
       "      <td>27.350000</td>\n",
       "      <td>27.600000</td>\n",
       "      <td>27.230000</td>\n",
       "      <td>27.370000</td>\n",
       "      <td>7.425603e+06</td>\n",
       "    </tr>\n",
       "    <tr>\n",
       "      <th>25%</th>\n",
       "      <td>390512.500000</td>\n",
       "      <td>40.305000</td>\n",
       "      <td>40.637500</td>\n",
       "      <td>39.870000</td>\n",
       "      <td>40.310000</td>\n",
       "      <td>2.254879e+07</td>\n",
       "    </tr>\n",
       "    <tr>\n",
       "      <th>50%</th>\n",
       "      <td>390827.000000</td>\n",
       "      <td>47.440000</td>\n",
       "      <td>47.810000</td>\n",
       "      <td>47.005000</td>\n",
       "      <td>47.520000</td>\n",
       "      <td>2.938758e+07</td>\n",
       "    </tr>\n",
       "    <tr>\n",
       "      <th>75%</th>\n",
       "      <td>391141.500000</td>\n",
       "      <td>59.955000</td>\n",
       "      <td>60.435000</td>\n",
       "      <td>59.275000</td>\n",
       "      <td>59.730000</td>\n",
       "      <td>3.842024e+07</td>\n",
       "    </tr>\n",
       "    <tr>\n",
       "      <th>max</th>\n",
       "      <td>391456.000000</td>\n",
       "      <td>95.140000</td>\n",
       "      <td>96.070000</td>\n",
       "      <td>93.720000</td>\n",
       "      <td>95.010000</td>\n",
       "      <td>2.483542e+08</td>\n",
       "    </tr>\n",
       "  </tbody>\n",
       "</table>\n",
       "</div>"
      ],
      "text/plain": [
       "               index         open         high          low        close  \\\n",
       "count    1259.000000  1259.000000  1259.000000  1259.000000  1259.000000   \n",
       "mean   390827.000000    51.026394    51.436007    50.630397    51.063081   \n",
       "std       363.586303    14.859387    14.930144    14.774630    14.852117   \n",
       "min    390198.000000    27.350000    27.600000    27.230000    27.370000   \n",
       "25%    390512.500000    40.305000    40.637500    39.870000    40.310000   \n",
       "50%    390827.000000    47.440000    47.810000    47.005000    47.520000   \n",
       "75%    391141.500000    59.955000    60.435000    59.275000    59.730000   \n",
       "max    391456.000000    95.140000    96.070000    93.720000    95.010000   \n",
       "\n",
       "             volume  \n",
       "count  1.259000e+03  \n",
       "mean   3.386946e+07  \n",
       "std    1.958979e+07  \n",
       "min    7.425603e+06  \n",
       "25%    2.254879e+07  \n",
       "50%    2.938758e+07  \n",
       "75%    3.842024e+07  \n",
       "max    2.483542e+08  "
      ]
     },
     "execution_count": 4,
     "metadata": {},
     "output_type": "execute_result"
    }
   ],
   "source": [
    "df.describe()"
   ]
  },
  {
   "cell_type": "code",
   "execution_count": 6,
   "id": "e179edb8",
   "metadata": {},
   "outputs": [
    {
     "data": {
      "text/plain": [
       "Index(['index', 'date', 'open', 'high', 'low', 'close', 'volume', 'Name'], dtype='object')"
      ]
     },
     "execution_count": 6,
     "metadata": {},
     "output_type": "execute_result"
    }
   ],
   "source": [
    "df.columns"
   ]
  },
  {
   "cell_type": "code",
   "execution_count": 8,
   "id": "0fefb05f",
   "metadata": {},
   "outputs": [
    {
     "data": {
      "text/html": [
       "<div>\n",
       "<style scoped>\n",
       "    .dataframe tbody tr th:only-of-type {\n",
       "        vertical-align: middle;\n",
       "    }\n",
       "\n",
       "    .dataframe tbody tr th {\n",
       "        vertical-align: top;\n",
       "    }\n",
       "\n",
       "    .dataframe thead th {\n",
       "        text-align: right;\n",
       "    }\n",
       "</style>\n",
       "<table border=\"1\" class=\"dataframe\">\n",
       "  <thead>\n",
       "    <tr style=\"text-align: right;\">\n",
       "      <th></th>\n",
       "      <th>index</th>\n",
       "      <th>date</th>\n",
       "      <th>open</th>\n",
       "      <th>high</th>\n",
       "      <th>low</th>\n",
       "      <th>close</th>\n",
       "      <th>volume</th>\n",
       "      <th>Name</th>\n",
       "    </tr>\n",
       "  </thead>\n",
       "  <tbody>\n",
       "    <tr>\n",
       "      <th>0</th>\n",
       "      <td>390198</td>\n",
       "      <td>2013-02-08</td>\n",
       "      <td>27.35</td>\n",
       "      <td>27.710</td>\n",
       "      <td>27.3100</td>\n",
       "      <td>27.55</td>\n",
       "      <td>33318306</td>\n",
       "      <td>MSFT</td>\n",
       "    </tr>\n",
       "    <tr>\n",
       "      <th>1</th>\n",
       "      <td>390199</td>\n",
       "      <td>2013-02-11</td>\n",
       "      <td>27.65</td>\n",
       "      <td>27.920</td>\n",
       "      <td>27.5000</td>\n",
       "      <td>27.86</td>\n",
       "      <td>32247549</td>\n",
       "      <td>MSFT</td>\n",
       "    </tr>\n",
       "    <tr>\n",
       "      <th>2</th>\n",
       "      <td>390200</td>\n",
       "      <td>2013-02-12</td>\n",
       "      <td>27.88</td>\n",
       "      <td>28.000</td>\n",
       "      <td>27.7500</td>\n",
       "      <td>27.88</td>\n",
       "      <td>35990829</td>\n",
       "      <td>MSFT</td>\n",
       "    </tr>\n",
       "    <tr>\n",
       "      <th>3</th>\n",
       "      <td>390201</td>\n",
       "      <td>2013-02-13</td>\n",
       "      <td>27.93</td>\n",
       "      <td>28.110</td>\n",
       "      <td>27.8800</td>\n",
       "      <td>28.03</td>\n",
       "      <td>41715530</td>\n",
       "      <td>MSFT</td>\n",
       "    </tr>\n",
       "    <tr>\n",
       "      <th>4</th>\n",
       "      <td>390202</td>\n",
       "      <td>2013-02-14</td>\n",
       "      <td>27.92</td>\n",
       "      <td>28.060</td>\n",
       "      <td>27.8700</td>\n",
       "      <td>28.04</td>\n",
       "      <td>32663174</td>\n",
       "      <td>MSFT</td>\n",
       "    </tr>\n",
       "    <tr>\n",
       "      <th>...</th>\n",
       "      <td>...</td>\n",
       "      <td>...</td>\n",
       "      <td>...</td>\n",
       "      <td>...</td>\n",
       "      <td>...</td>\n",
       "      <td>...</td>\n",
       "      <td>...</td>\n",
       "      <td>...</td>\n",
       "    </tr>\n",
       "    <tr>\n",
       "      <th>1254</th>\n",
       "      <td>391452</td>\n",
       "      <td>2018-02-01</td>\n",
       "      <td>94.79</td>\n",
       "      <td>96.070</td>\n",
       "      <td>93.5813</td>\n",
       "      <td>94.26</td>\n",
       "      <td>47227882</td>\n",
       "      <td>MSFT</td>\n",
       "    </tr>\n",
       "    <tr>\n",
       "      <th>1255</th>\n",
       "      <td>391453</td>\n",
       "      <td>2018-02-02</td>\n",
       "      <td>93.64</td>\n",
       "      <td>93.970</td>\n",
       "      <td>91.5000</td>\n",
       "      <td>91.78</td>\n",
       "      <td>47867753</td>\n",
       "      <td>MSFT</td>\n",
       "    </tr>\n",
       "    <tr>\n",
       "      <th>1256</th>\n",
       "      <td>391454</td>\n",
       "      <td>2018-02-05</td>\n",
       "      <td>90.56</td>\n",
       "      <td>93.240</td>\n",
       "      <td>88.0000</td>\n",
       "      <td>88.00</td>\n",
       "      <td>51031465</td>\n",
       "      <td>MSFT</td>\n",
       "    </tr>\n",
       "    <tr>\n",
       "      <th>1257</th>\n",
       "      <td>391455</td>\n",
       "      <td>2018-02-06</td>\n",
       "      <td>86.89</td>\n",
       "      <td>91.475</td>\n",
       "      <td>85.2500</td>\n",
       "      <td>91.33</td>\n",
       "      <td>67998564</td>\n",
       "      <td>MSFT</td>\n",
       "    </tr>\n",
       "    <tr>\n",
       "      <th>1258</th>\n",
       "      <td>391456</td>\n",
       "      <td>2018-02-07</td>\n",
       "      <td>90.49</td>\n",
       "      <td>91.770</td>\n",
       "      <td>89.2000</td>\n",
       "      <td>89.61</td>\n",
       "      <td>41107592</td>\n",
       "      <td>MSFT</td>\n",
       "    </tr>\n",
       "  </tbody>\n",
       "</table>\n",
       "<p>1259 rows × 8 columns</p>\n",
       "</div>"
      ],
      "text/plain": [
       "       index        date   open    high      low  close    volume  Name\n",
       "0     390198  2013-02-08  27.35  27.710  27.3100  27.55  33318306  MSFT\n",
       "1     390199  2013-02-11  27.65  27.920  27.5000  27.86  32247549  MSFT\n",
       "2     390200  2013-02-12  27.88  28.000  27.7500  27.88  35990829  MSFT\n",
       "3     390201  2013-02-13  27.93  28.110  27.8800  28.03  41715530  MSFT\n",
       "4     390202  2013-02-14  27.92  28.060  27.8700  28.04  32663174  MSFT\n",
       "...      ...         ...    ...     ...      ...    ...       ...   ...\n",
       "1254  391452  2018-02-01  94.79  96.070  93.5813  94.26  47227882  MSFT\n",
       "1255  391453  2018-02-02  93.64  93.970  91.5000  91.78  47867753  MSFT\n",
       "1256  391454  2018-02-05  90.56  93.240  88.0000  88.00  51031465  MSFT\n",
       "1257  391455  2018-02-06  86.89  91.475  85.2500  91.33  67998564  MSFT\n",
       "1258  391456  2018-02-07  90.49  91.770  89.2000  89.61  41107592  MSFT\n",
       "\n",
       "[1259 rows x 8 columns]"
      ]
     },
     "execution_count": 8,
     "metadata": {},
     "output_type": "execute_result"
    }
   ],
   "source": [
    "df"
   ]
  },
  {
   "cell_type": "code",
   "execution_count": 9,
   "id": "667d20f1",
   "metadata": {},
   "outputs": [
    {
     "name": "stdout",
     "output_type": "stream",
     "text": [
      "<class 'pandas.core.frame.DataFrame'>\n",
      "RangeIndex: 1259 entries, 0 to 1258\n",
      "Data columns (total 8 columns):\n",
      " #   Column  Non-Null Count  Dtype  \n",
      "---  ------  --------------  -----  \n",
      " 0   index   1259 non-null   int64  \n",
      " 1   date    1259 non-null   object \n",
      " 2   open    1259 non-null   float64\n",
      " 3   high    1259 non-null   float64\n",
      " 4   low     1259 non-null   float64\n",
      " 5   close   1259 non-null   float64\n",
      " 6   volume  1259 non-null   int64  \n",
      " 7   Name    1259 non-null   object \n",
      "dtypes: float64(4), int64(2), object(2)\n",
      "memory usage: 78.8+ KB\n"
     ]
    }
   ],
   "source": [
    "df.info()"
   ]
  },
  {
   "cell_type": "code",
   "execution_count": 7,
   "id": "dbfdc574",
   "metadata": {},
   "outputs": [
    {
     "data": {
      "text/plain": [
       "<matplotlib.legend.Legend at 0x18f1a619f10>"
      ]
     },
     "execution_count": 7,
     "metadata": {},
     "output_type": "execute_result"
    },
    {
     "data": {
      "image/png": "[encoded data removed]",
      "text/plain": [
       "<Figure size 432x288 with 1 Axes>"
      ]
     },
     "metadata": {
      "needs_background": "light"
     },
     "output_type": "display_data"
    }
   ],
   "source": [
    "plt.plot(df['date'], df['open'], label='open', color='blue')\n",
    "plt.plot(df['date'], df['close'], label='close', color='green')\n",
    "plt.title('Microsoft open-close stock')\n",
    "plt.legend()"
   ]
  },
  {
   "cell_type": "code",
   "execution_count": 10,
   "id": "fb493a1c",
   "metadata": {},
   "outputs": [
    {
     "data": {
      "text/plain": [
       "[<matplotlib.lines.Line2D at 0x18f1c5a6100>]"
      ]
     },
     "execution_count": 10,
     "metadata": {},
     "output_type": "execute_result"
    },
    {
     "data": {
      "image/png": "[encoded data removed]",
      "text/plain": [
       "<Figure size 432x288 with 1 Axes>"
      ]
     },
     "metadata": {
      "needs_background": "light"
     },
     "output_type": "display_data"
    }
   ],
   "source": [
    "plt.plot(df['date'], df['volume'])"
   ]
  },
  {
   "cell_type": "code",
   "execution_count": 12,
   "id": "213bab2f",
   "metadata": {},
   "outputs": [
    {
     "data": {
      "image/png": "[encoded data removed]",
      "text/plain": [
       "<Figure size 432x288 with 1 Axes>"
      ]
     },
     "metadata": {
      "needs_background": "light"
     },
     "output_type": "display_data"
    }
   ],
   "source": [
    "sb.heatmap(df.corr(), annot=True, cbar=False)\n",
    "plt.show()"
   ]
  },
  {
   "cell_type": "code",
   "execution_count": 13,
   "id": "6c8e2a31",
   "metadata": {},
   "outputs": [
    {
     "data": {
      "text/plain": [
       "Text(0, 0.5, 'Close')"
      ]
     },
     "execution_count": 13,
     "metadata": {},
     "output_type": "execute_result"
    },
    {
     "data": {
      "image/png": "[encoded data removed]",
      "text/plain": [
       "<Figure size 720x720 with 1 Axes>"
      ]
     },
     "metadata": {
      "needs_background": "light"
     },
     "output_type": "display_data"
    }
   ],
   "source": [
    "df['date'] = pd.to_datetime(df['date'])\n",
    "prediction = df.loc[(df['date'] > datetime(2013,1,1)) & (df['date'] < datetime(2018,1,1))]\n",
    "plt.figure(figsize=(10,10))\n",
    "plt.plot(df['date'], df['close'])\n",
    "plt.title(\"Microsoft close stock\")\n",
    "plt.xlabel(\"Date\")\n",
    "plt.ylabel(\"Close\")\n"
   ]
  },
  {
   "cell_type": "code",
   "execution_count": 44,
   "id": "95c160aa",
   "metadata": {},
   "outputs": [
    {
     "data": {
      "text/plain": [
       "1259"
      ]
     },
     "execution_count": 44,
     "metadata": {},
     "output_type": "execute_result"
    }
   ],
   "source": [
    "msft_close = df.filter(['close'])\n",
    "dataset = msft_close.values\n",
    "scaler = StandardScaler()\n",
    "scaler_data = scaler.fit_transform(dataset)\n",
    "len(dataset)"
   ]
  },
  {
   "cell_type": "code",
   "execution_count": 45,
   "id": "a9419ff6",
   "metadata": {},
   "outputs": [],
   "source": [
    "training = int(np.ceil(len(dataset)*0.95))\n",
    "train_data = scaler_data[:int(training), :]\n",
    "x_train = []\n",
    "y_train = []\n",
    "for i in range(60, len(train_data)):\n",
    "    x_train.append(train_data[i-60:i, :])\n",
    "    y_train.append(train_data[i,0])\n",
    "x_train, y_train = np.array(x_train), np.array(y_train)\n",
    "X_train = np.reshape(x_train, (x_train.shape[0], x_train.shape[1], 1))"
   ]
  },
  {
   "cell_type": "code",
   "execution_count": 64,
   "id": "90493cc1",
   "metadata": {},
   "outputs": [
    {
     "data": {
      "text/plain": [
       "(1137,)"
      ]
     },
     "execution_count": 64,
     "metadata": {},
     "output_type": "execute_result"
    }
   ],
   "source": [
    "y_train.shape"
   ]
  },
  {
   "cell_type": "code",
   "execution_count": 46,
   "id": "d1e33795",
   "metadata": {},
   "outputs": [
    {
     "data": {
      "text/plain": [
       "(1137, 60, 1)"
      ]
     },
     "execution_count": 46,
     "metadata": {},
     "output_type": "execute_result"
    }
   ],
   "source": [
    "X_train.shape"
   ]
  },
  {
   "cell_type": "code",
   "execution_count": 74,
   "id": "a60dfc5e",
   "metadata": {},
   "outputs": [
    {
     "name": "stdout",
     "output_type": "stream",
     "text": [
      "Model: \"sequential_4\"\n",
      "_________________________________________________________________\n",
      " Layer (type)                Output Shape              Param #   \n",
      "=================================================================\n",
      " lstm_8 (LSTM)               (None, 60, 64)            16896     \n",
      "                                                                 \n",
      " lstm_9 (LSTM)               (None, 64)                33024     \n",
      "                                                                 \n",
      " dense_7 (Dense)             (None, 128)               8320      \n",
      "                                                                 \n",
      " dropout_5 (Dropout)         (None, 128)               0         \n",
      "                                                                 \n",
      " dense_8 (Dense)             (None, 1)                 129       \n",
      "                                                                 \n",
      "=================================================================\n",
      "Total params: 58369 (228.00 KB)\n",
      "Trainable params: 58369 (228.00 KB)\n",
      "Non-trainable params: 0 (0.00 Byte)\n",
      "_________________________________________________________________\n",
      "None\n"
     ]
    }
   ],
   "source": [
    "model = keras.models.Sequential()\n",
    "model.add(keras.layers.LSTM(units=64,\n",
    "                           return_sequences=True,\n",
    "                           input_shape = (X_train.shape[1], 1)))\n",
    "model.add(keras.layers.LSTM(units=64))\n",
    "model.add(keras.layers.Dense(128))\n",
    "model.add(keras.layers.Dropout(0.5))\n",
    "model.add(keras.layers.Dense(1))\n",
    "\n",
    "print(model.summary())"
   ]
  },
  {
   "cell_type": "code",
   "execution_count": 75,
   "id": "b77ed74f",
   "metadata": {},
   "outputs": [
    {
     "name": "stdout",
     "output_type": "stream",
     "text": [
      "Epoch 1/20\n",
      "36/36 [==============================] - 4s 26ms/step - loss: 0.1965 - root_mean_squared_error: 0.3003\n",
      "Epoch 2/20\n",
      "36/36 [==============================] - 1s 27ms/step - loss: 0.1032 - root_mean_squared_error: 0.1445\n",
      "Epoch 3/20\n",
      "36/36 [==============================] - 1s 27ms/step - loss: 0.0968 - root_mean_squared_error: 0.1296\n",
      "Epoch 4/20\n",
      "36/36 [==============================] - 1s 26ms/step - loss: 0.0931 - root_mean_squared_error: 0.1260\n",
      "Epoch 5/20\n",
      "36/36 [==============================] - 1s 26ms/step - loss: 0.0877 - root_mean_squared_error: 0.1189\n",
      "Epoch 6/20\n",
      "36/36 [==============================] - 1s 27ms/step - loss: 0.0805 - root_mean_squared_error: 0.1067\n",
      "Epoch 7/20\n",
      "36/36 [==============================] - 1s 27ms/step - loss: 0.0887 - root_mean_squared_error: 0.1193\n",
      "Epoch 8/20\n",
      "36/36 [==============================] - 1s 28ms/step - loss: 0.0847 - root_mean_squared_error: 0.1134\n",
      "Epoch 9/20\n",
      "36/36 [==============================] - 1s 28ms/step - loss: 0.0809 - root_mean_squared_error: 0.1093\n",
      "Epoch 10/20\n",
      "36/36 [==============================] - 1s 28ms/step - loss: 0.0846 - root_mean_squared_error: 0.1135\n",
      "Epoch 11/20\n",
      "36/36 [==============================] - 1s 28ms/step - loss: 0.0818 - root_mean_squared_error: 0.1103\n",
      "Epoch 12/20\n",
      "36/36 [==============================] - 1s 28ms/step - loss: 0.0811 - root_mean_squared_error: 0.1099\n",
      "Epoch 13/20\n",
      "36/36 [==============================] - 1s 29ms/step - loss: 0.0781 - root_mean_squared_error: 0.1058\n",
      "Epoch 14/20\n",
      "36/36 [==============================] - 1s 28ms/step - loss: 0.0840 - root_mean_squared_error: 0.1113\n",
      "Epoch 15/20\n",
      "36/36 [==============================] - 1s 27ms/step - loss: 0.0757 - root_mean_squared_error: 0.1047\n",
      "Epoch 16/20\n",
      "36/36 [==============================] - 1s 27ms/step - loss: 0.0761 - root_mean_squared_error: 0.1042\n",
      "Epoch 17/20\n",
      "36/36 [==============================] - 1s 29ms/step - loss: 0.0768 - root_mean_squared_error: 0.1033\n",
      "Epoch 18/20\n",
      "36/36 [==============================] - 1s 30ms/step - loss: 0.0751 - root_mean_squared_error: 0.1026\n",
      "Epoch 19/20\n",
      "36/36 [==============================] - 1s 30ms/step - loss: 0.0716 - root_mean_squared_error: 0.0965\n",
      "Epoch 20/20\n",
      "36/36 [==============================] - 1s 28ms/step - loss: 0.0707 - root_mean_squared_error: 0.0975\n"
     ]
    }
   ],
   "source": [
    "from keras.metrics import RootMeanSquaredError\n",
    "model.compile(optimizer='adam', loss='mae', metrics=RootMeanSquaredError())\n",
    "history = model.fit(X_train, y_train, epochs=20)"
   ]
  },
  {
   "cell_type": "code",
   "execution_count": 76,
   "id": "f9c0c4cb",
   "metadata": {},
   "outputs": [
    {
     "name": "stdout",
     "output_type": "stream",
     "text": [
      "2/2 [==============================] - 1s 21ms/step\n"
     ]
    }
   ],
   "source": [
    "testing = scaler_data[training-60:,:]\n",
    "x_test = []\n",
    "y_test = dataset[training:, :]\n",
    "for i in range(60,len(testing)):\n",
    "    x_test.append(testing[i-60:i, 0])\n",
    "x_test = np.array(x_test)\n",
    "X_test = np.reshape(x_test, (x_test.shape[0], x_test.shape[1], 1))\n",
    "\n",
    "pred = model.predict(X_test)"
   ]
  },
  {
   "cell_type": "code",
   "execution_count": 77,
   "id": "fdc8520e",
   "metadata": {},
   "outputs": [
    {
     "data": {
      "text/plain": [
       "((122, 1), (62, 1), 122)"
      ]
     },
     "execution_count": 77,
     "metadata": {},
     "output_type": "execute_result"
    }
   ],
   "source": [
    "testing.shape, y_test.shape, len(testing)"
   ]
  },
  {
   "cell_type": "code",
   "execution_count": 78,
   "id": "b83f0525",
   "metadata": {},
   "outputs": [],
   "source": [
    "pred_upscaled = scaler.inverse_transform(pred)"
   ]
  },
  {
   "cell_type": "code",
   "execution_count": 79,
   "id": "072f86f9",
   "metadata": {},
   "outputs": [
    {
     "name": "stderr",
     "output_type": "stream",
     "text": [
      "C:\\Users\\Leviathan\\AppData\\Local\\Temp\\ipykernel_6288\\3338693218.py:3: SettingWithCopyWarning: \n",
      "A value is trying to be set on a copy of a slice from a DataFrame.\n",
      "Try using .loc[row_indexer,col_indexer] = value instead\n",
      "\n",
      "See the caveats in the documentation: https://pandas.pydata.org/pandas-docs/stable/user_guide/indexing.html#returning-a-view-versus-a-copy\n",
      "  test['Predictions'] = pred_upscaled\n"
     ]
    },
    {
     "data": {
      "text/html": [
       "<div>\n",
       "<style scoped>\n",
       "    .dataframe tbody tr th:only-of-type {\n",
       "        vertical-align: middle;\n",
       "    }\n",
       "\n",
       "    .dataframe tbody tr th {\n",
       "        vertical-align: top;\n",
       "    }\n",
       "\n",
       "    .dataframe thead th {\n",
       "        text-align: right;\n",
       "    }\n",
       "</style>\n",
       "<table border=\"1\" class=\"dataframe\">\n",
       "  <thead>\n",
       "    <tr style=\"text-align: right;\">\n",
       "      <th></th>\n",
       "      <th>index</th>\n",
       "      <th>date</th>\n",
       "      <th>open</th>\n",
       "      <th>high</th>\n",
       "      <th>low</th>\n",
       "      <th>close</th>\n",
       "      <th>volume</th>\n",
       "      <th>Name</th>\n",
       "      <th>Predictions</th>\n",
       "    </tr>\n",
       "  </thead>\n",
       "  <tbody>\n",
       "    <tr>\n",
       "      <th>1197</th>\n",
       "      <td>391395</td>\n",
       "      <td>2017-11-08</td>\n",
       "      <td>84.14</td>\n",
       "      <td>84.610</td>\n",
       "      <td>83.8300</td>\n",
       "      <td>84.56</td>\n",
       "      <td>18034170</td>\n",
       "      <td>MSFT</td>\n",
       "      <td>82.192970</td>\n",
       "    </tr>\n",
       "    <tr>\n",
       "      <th>1198</th>\n",
       "      <td>391396</td>\n",
       "      <td>2017-11-09</td>\n",
       "      <td>84.11</td>\n",
       "      <td>84.270</td>\n",
       "      <td>82.9000</td>\n",
       "      <td>84.09</td>\n",
       "      <td>21171550</td>\n",
       "      <td>MSFT</td>\n",
       "      <td>82.292480</td>\n",
       "    </tr>\n",
       "    <tr>\n",
       "      <th>1199</th>\n",
       "      <td>391397</td>\n",
       "      <td>2017-11-10</td>\n",
       "      <td>83.79</td>\n",
       "      <td>84.095</td>\n",
       "      <td>83.2300</td>\n",
       "      <td>83.87</td>\n",
       "      <td>19397793</td>\n",
       "      <td>MSFT</td>\n",
       "      <td>82.216064</td>\n",
       "    </tr>\n",
       "    <tr>\n",
       "      <th>1200</th>\n",
       "      <td>391398</td>\n",
       "      <td>2017-11-13</td>\n",
       "      <td>83.66</td>\n",
       "      <td>83.940</td>\n",
       "      <td>83.4600</td>\n",
       "      <td>83.93</td>\n",
       "      <td>14196896</td>\n",
       "      <td>MSFT</td>\n",
       "      <td>82.051636</td>\n",
       "    </tr>\n",
       "    <tr>\n",
       "      <th>1201</th>\n",
       "      <td>391399</td>\n",
       "      <td>2017-11-14</td>\n",
       "      <td>83.50</td>\n",
       "      <td>84.100</td>\n",
       "      <td>82.9800</td>\n",
       "      <td>84.05</td>\n",
       "      <td>18801280</td>\n",
       "      <td>MSFT</td>\n",
       "      <td>81.944763</td>\n",
       "    </tr>\n",
       "    <tr>\n",
       "      <th>...</th>\n",
       "      <td>...</td>\n",
       "      <td>...</td>\n",
       "      <td>...</td>\n",
       "      <td>...</td>\n",
       "      <td>...</td>\n",
       "      <td>...</td>\n",
       "      <td>...</td>\n",
       "      <td>...</td>\n",
       "      <td>...</td>\n",
       "    </tr>\n",
       "    <tr>\n",
       "      <th>1254</th>\n",
       "      <td>391452</td>\n",
       "      <td>2018-02-01</td>\n",
       "      <td>94.79</td>\n",
       "      <td>96.070</td>\n",
       "      <td>93.5813</td>\n",
       "      <td>94.26</td>\n",
       "      <td>47227882</td>\n",
       "      <td>MSFT</td>\n",
       "      <td>90.830040</td>\n",
       "    </tr>\n",
       "    <tr>\n",
       "      <th>1255</th>\n",
       "      <td>391453</td>\n",
       "      <td>2018-02-02</td>\n",
       "      <td>93.64</td>\n",
       "      <td>93.970</td>\n",
       "      <td>91.5000</td>\n",
       "      <td>91.78</td>\n",
       "      <td>47867753</td>\n",
       "      <td>MSFT</td>\n",
       "      <td>91.066010</td>\n",
       "    </tr>\n",
       "    <tr>\n",
       "      <th>1256</th>\n",
       "      <td>391454</td>\n",
       "      <td>2018-02-05</td>\n",
       "      <td>90.56</td>\n",
       "      <td>93.240</td>\n",
       "      <td>88.0000</td>\n",
       "      <td>88.00</td>\n",
       "      <td>51031465</td>\n",
       "      <td>MSFT</td>\n",
       "      <td>90.414345</td>\n",
       "    </tr>\n",
       "    <tr>\n",
       "      <th>1257</th>\n",
       "      <td>391455</td>\n",
       "      <td>2018-02-06</td>\n",
       "      <td>86.89</td>\n",
       "      <td>91.475</td>\n",
       "      <td>85.2500</td>\n",
       "      <td>91.33</td>\n",
       "      <td>67998564</td>\n",
       "      <td>MSFT</td>\n",
       "      <td>88.585060</td>\n",
       "    </tr>\n",
       "    <tr>\n",
       "      <th>1258</th>\n",
       "      <td>391456</td>\n",
       "      <td>2018-02-07</td>\n",
       "      <td>90.49</td>\n",
       "      <td>91.770</td>\n",
       "      <td>89.2000</td>\n",
       "      <td>89.61</td>\n",
       "      <td>41107592</td>\n",
       "      <td>MSFT</td>\n",
       "      <td>88.068802</td>\n",
       "    </tr>\n",
       "  </tbody>\n",
       "</table>\n",
       "<p>62 rows × 9 columns</p>\n",
       "</div>"
      ],
      "text/plain": [
       "       index       date   open    high      low  close    volume  Name  \\\n",
       "1197  391395 2017-11-08  84.14  84.610  83.8300  84.56  18034170  MSFT   \n",
       "1198  391396 2017-11-09  84.11  84.270  82.9000  84.09  21171550  MSFT   \n",
       "1199  391397 2017-11-10  83.79  84.095  83.2300  83.87  19397793  MSFT   \n",
       "1200  391398 2017-11-13  83.66  83.940  83.4600  83.93  14196896  MSFT   \n",
       "1201  391399 2017-11-14  83.50  84.100  82.9800  84.05  18801280  MSFT   \n",
       "...      ...        ...    ...     ...      ...    ...       ...   ...   \n",
       "1254  391452 2018-02-01  94.79  96.070  93.5813  94.26  47227882  MSFT   \n",
       "1255  391453 2018-02-02  93.64  93.970  91.5000  91.78  47867753  MSFT   \n",
       "1256  391454 2018-02-05  90.56  93.240  88.0000  88.00  51031465  MSFT   \n",
       "1257  391455 2018-02-06  86.89  91.475  85.2500  91.33  67998564  MSFT   \n",
       "1258  391456 2018-02-07  90.49  91.770  89.2000  89.61  41107592  MSFT   \n",
       "\n",
       "      Predictions  \n",
       "1197    82.192970  \n",
       "1198    82.292480  \n",
       "1199    82.216064  \n",
       "1200    82.051636  \n",
       "1201    81.944763  \n",
       "...           ...  \n",
       "1254    90.830040  \n",
       "1255    91.066010  \n",
       "1256    90.414345  \n",
       "1257    88.585060  \n",
       "1258    88.068802  \n",
       "\n",
       "[62 rows x 9 columns]"
      ]
     },
     "execution_count": 79,
     "metadata": {},
     "output_type": "execute_result"
    },
    {
     "data": {
      "image/png": "[encoded data removed]",
      "text/plain": [
       "<Figure size 720x576 with 1 Axes>"
      ]
     },
     "metadata": {
      "needs_background": "light"
     },
     "output_type": "display_data"
    }
   ],
   "source": [
    "train = df[:training]\n",
    "test = df[training:]\n",
    "test['Predictions'] = pred_upscaled\n",
    "test\n",
    "plt.figure(figsize=(10, 8))\n",
    "plt.plot(train['close'], c=\"b\")\n",
    "plt.plot(test[['close', 'Predictions']])\n",
    "plt.title('Microsoft Stock Close Price')\n",
    "plt.ylabel(\"Close\")\n",
    "plt.legend(['Train', 'Test', 'Predictions'])\n",
    "test"
   ]
  },
  {
   "cell_type": "code",
   "execution_count": 56,
   "id": "a343fd56",
   "metadata": {},
   "outputs": [
    {
     "data": {
      "text/plain": [
       "1197    85.020737\n",
       "1198    85.127258\n",
       "1199    85.053925\n",
       "1200    84.880013\n",
       "1201    84.752274\n",
       "          ...    \n",
       "1254    94.712074\n",
       "1255    94.990143\n",
       "1256    94.368202\n",
       "1257    92.492577\n",
       "1258    91.805923\n",
       "Name: Predictions, Length: 62, dtype: float32"
      ]
     },
     "metadata": {},
     "output_type": "display_data"
    }
   ],
   "source": [
    "display(test['Predictions'])"
   ]
  },
  {
   "cell_type": "code",
   "execution_count": null,
   "id": "5a8a0570",
   "metadata": {},
   "outputs": [],
   "source": []
  }
 ],
 "metadata": {
  "kernelspec": {
   "display_name": "Python 3 (ipykernel)",
   "language": "python",
   "name": "python3"
  },
  "language_info": {
   "codemirror_mode": {
    "name": "ipython",
    "version": 3
   },
   "file_extension": ".py",
   "mimetype": "text/x-python",
   "name": "python",
   "nbconvert_exporter": "python",
   "pygments_lexer": "ipython3",
   "version": "3.9.12"
  }
 },
 "nbformat": 4,
 "nbformat_minor": 5
}
